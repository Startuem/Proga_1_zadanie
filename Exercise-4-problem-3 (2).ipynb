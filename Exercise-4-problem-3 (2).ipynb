{
  "metadata": {
    "kernelspec": {
      "name": "python",
      "display_name": "Python (Pyodide)",
      "language": "python"
    },
    "language_info": {
      "codemirror_mode": {
        "name": "python",
        "version": 3
      },
      "file_extension": ".py",
      "mimetype": "text/x-python",
      "name": "python",
      "nbconvert_exporter": "python",
      "pygments_lexer": "ipython3",
      "version": "3.8"
    }
  },
  "nbformat_minor": 4,
  "nbformat": 4,
  "cells": [
    {
      "cell_type": "markdown",
      "source": "## Задача 3 - Применение классификатора\n\nНаконец, мы можем собрать воедино части решения, которые мы создали в проблемах 1 и 2. Здесь ваша цель - использовать\nваши новые функции и классифицировать данные по температуре в Фаренгейтах по четырем разным классам.\n\n### Советы по выполнению упражнения\n\n- Используйте **в точности** те же имена переменных, что и в инструкциях, потому что ваши ответы будут автоматически оценены, и тесты, которые оценивают ваши ответы, зависят от того же форматирования или именования переменных, что и в инструкциях.\n\n- **Пожалуйста**,\n\n    - **Не изменяйте имена файлов**. Сделайте все свое редактирование в файле `Exercise-4-зкщидуь-1.ipynb` (этом файле).\n    - **Не копируйте/вставляйте ячейки в этом блокноте**. Мы используем автоматизированную систему оценки, которая не будет работать, если есть копии кодовых ячеек.\n    - **Не изменяйте типы ячеек**. Вы можете добавить ячейки, но изменение типов ячеек для существующих ячеек (например, c кода на Markdown) также приведет к выходу из строя автоматизированной проверки.\n\n### Условия успешного выполнения задания\n\n- Создание нового **скрипта** с именем `temp_functions.py` с функциями, которые вы написали в задачах 1 и 2\n- Наличие DocString в файле скрипта\n- Преобразование и классификация списка температур в части 2\n- Хранение значения температур в каждом классе в указанных переменных\n- Ответ на вопросы в конце этой задачи\n- Загрузка вашего блокнота в репозиторий",
      "metadata": {
        "deletable": false,
        "editable": false,
        "nbgrader": {
          "cell_type": "markdown",
          "checksum": "0bc1079e2926ca65fc81bbae190154c7",
          "grade": false,
          "grade_id": "cell-db10a919018a5c73",
          "locked": true,
          "schema_version": 3,
          "solution": false
        }
      }
    },
    {
      "cell_type": "markdown",
      "source": "## Соглашение об использовании ИИ\n\n**Введите свое имя в ячейку ниже** чтобы подтвердить, что вы следовали [принципам курса об использовании инструментов ИИ](https://geo-python-2024.readthedocs.io/ru/latest/course-info/ai-tools.html) и понимаете, что использование инструментов ИИ считается обманом.",
      "metadata": {
        "deletable": false,
        "editable": false,
        "nbgrader": {
          "cell_type": "markdown",
          "checksum": "77b2a4701d93a18057b30b7160d948d0",
          "grade": false,
          "grade_id": "cell-f5cc86231ca34574",
          "locked": true,
          "schema_version": 3,
          "solution": false,
          "task": false
        },
        "tags": []
      }
    },
    {
      "cell_type": "markdown",
      "source": "Павел Федоров, это я",
      "metadata": {
        "deletable": false,
        "nbgrader": {
          "cell_type": "markdown",
          "checksum": "3090fba9f72304689d8c682c81c3290e",
          "grade": true,
          "grade_id": "E4-P3-AI-LLM_statement",
          "locked": false,
          "points": 0,
          "schema_version": 3,
          "solution": true,
          "task": false
        },
        "tags": []
      }
    },
    {
      "cell_type": "markdown",
      "source": "### Часть 1: Создание скрипта\n\nДля выполнения этой части:\n\n- Создайте новый **скрипт** c именем `temp_functions.py` в вашей директории, так же, как мы делали на уроке [Lesson 4 materials](https://geo-python-site.readthedocs.io/en/latest/notebooks/L4/script-files.html). Скопируйте и вставьте функции, которые вы написали в задачах 1 и 2 в этот файл сценария (`fahr_to_celsius` и `temp_classifier`)\n- Добавьте DocString в файл скрипта (в дополнение к отдельным Docstrings в функциях)\n- Сохраните файл скрипта и продолжайте работать в **этом** блокноте (`Exercise-4-problem-3.ipynb`)",
      "metadata": {
        "deletable": false,
        "editable": false,
        "nbgrader": {
          "cell_type": "markdown",
          "checksum": "52a0b82df9e98c516eab48e436003f23",
          "grade": false,
          "grade_id": "cell-6a4973fcfb50801a",
          "locked": true,
          "schema_version": 3,
          "solution": false,
          "task": false
        }
      }
    },
    {
      "cell_type": "markdown",
      "source": "### Часть 2: преобразование температуры из Фаренгейтов в Цельсии\n\nДля этой части вы должны:\n\n1. Запишите температуру Фаренгейта ниже в переменную `temp_data` (просто выполните ячейку ниже).",
      "metadata": {
        "deletable": false,
        "editable": false,
        "nbgrader": {
          "cell_type": "markdown",
          "checksum": "60d0a4147b49e62e90a617c207861002",
          "grade": false,
          "grade_id": "cell-4f1cb14312eab537",
          "locked": true,
          "schema_version": 3,
          "solution": false,
          "task": false
        }
      }
    },
    {
      "cell_type": "code",
      "source": "# Список значений температуры (в градусах по Фаренгейту) в течение одной недели\ntemp_data =  [19, 21, 21, 21, 23, 23, 23, 21, 19, 21, 19, 21, 23, 27, 27, 28, 30, 30, 32, 32, 32, 32, \n              34, 34, 34, 36, 36, 36, 36, 36, 36, 34, 34, 34, 34, 34, 34, 32, 30, 30, 30, 28, 28, 27,\n              27, 27, 23, 23, 21, 21, 21, 19, 19, 19, 18, 18, 21, 27, 28, 30, 32, 34, 36, 37, 37, 37, \n              39, 39, 39, 39, 39, 39, 41, 41, 41, 41, 41, 39, 39, 37, 37, 36, 36, 34, 34, 32, 30, 30,\n              28, 27, 27, 25, 23, 23, 21, 21, 19, 19, 19, 18, 18, 18, 21, 25, 27, 28, 34, 34, 41, 37, \n              37, 39, 39, 39, 39, 41, 41, 39, 39, 39, 39, 39, 41, 39, 39, 39, 37, 36, 34, 32, 28, 28,\n              27, 25, 25, 25, 23, 23, 23, 23, 21, 21, 21, 21, 19, 21, 19, 21, 21, 19, 21, 27, 28, 32,\n              36, 36, 37, 39, 39, 39, 39, 39, 41, 41, 41, 41, 41, 41, 41, 41, 41, 39, 37, 36, 36, 34,\n              32, 30, 28, 28, 27, 27, 25, 25, 23, 23, 23, 21, 21, 21, 19, 19, 19, 19, 19, 19, 21, 23,\n              23, 23, 25, 27, 30, 36, 37, 37, 39, 39, 41, 41, 41, 39, 39, 41, 43, 43, 43, 43, 43, 43,\n              43, 43, 43, 39, 37, 37, 37, 36, 36, 36, 36, 34, 32, 32, 32, 32, 30, 30, 28, 28, 28, 27,\n              27, 27, 27, 25, 27, 27, 27, 28, 28, 28, 30, 32, 32, 32, 34, 34, 36, 36, 36, 37, 37, 37,\n              37, 37, 37, 37, 37, 37, 36, 34, 30, 30, 27, 27, 25, 25, 23, 21, 21, 21, 21, 19, 19, 19,\n              19, 19, 18, 18, 18, 18, 18, 19, 23, 27, 30, 32, 32, 32, 32, 32, 32, 34, 34, 34, 34, 34,\n              36, 36, 36, 36, 36, 32, 32, 32, 32, 32, 32, 32, 32, 30, 30, 30, 30, 30, 30, 30, 30, 30,\n              30, 30, 30, 30, 28, 28]",
      "metadata": {
        "deletable": false,
        "editable": false,
        "nbgrader": {
          "cell_type": "code",
          "checksum": "527c7a80fc38eb978791e1087bb92b3a",
          "grade": false,
          "grade_id": "data",
          "locked": true,
          "schema_version": 3,
          "solution": false
        },
        "trusted": true
      },
      "outputs": [],
      "execution_count": 29
    },
    {
      "cell_type": "markdown",
      "source": "#### Часть 2 (продолжается)\n\n2. Импортируйте функции `fahr_to_celsius` и` temp_classifier` из вашего скрипта `temp_functions.py`\n3. Создайте пустой список под названием `temp_classes` (который будет заполнен номерами температурных классов позже)\n4. **Преобразуйте температуру в Фаренгейтах** из списка `temp_data` в Цельсии и **клаццифицируйте температуры в Цельсиях** с помощью импортированных функций. Вывод должен храниться в списке `temp_classes`.\n \n    **Вы можете сделать преобразование и классификацию температуры внутри одного цикла:**\n\n    - Пройдите по списку температур в Фаренгейтах, то есть, создайте цикл `for` и внутри цикла:\n\n        1. Создайте новую переменную под названием `temp_celsius`, в которой вы будете хранить температуру в Цельсиях, используя функцию `fahr_to_celsius` для преобразования температуры\n        2. Создайте новую переменную с именем `temp_class`, в которой вы назначаете номер класса температуры (0, 1, 2 или 3) с помощью функции ` temp_classifier`\n        3. Добавьте значение `temp_class` в список `temp_classes`",
      "metadata": {
        "deletable": false,
        "editable": false,
        "nbgrader": {
          "cell_type": "markdown",
          "checksum": "eae8a81388ee647a15947be1cd2b2098",
          "grade": false,
          "grade_id": "cell-2affd0ad8ec6bc82",
          "locked": true,
          "schema_version": 3,
          "solution": false
        }
      }
    },
    {
      "cell_type": "code",
      "source": "from temp_functions import fahr_to_celsius, temp_classifier\ntemp_classes = []\n\nfor i in temp_data:\n    temp_celsius = fahr_to_celsius(i) \n    temp_class = temp_classifier(temp_celsius) \n    temp_classes.append(temp_class)",
      "metadata": {
        "deletable": false,
        "nbgrader": {
          "cell_type": "code",
          "checksum": "8133a38c76a2027a71051d147731fa9a",
          "grade": false,
          "grade_id": "problem_3_ag_p2_functions_usage",
          "locked": false,
          "schema_version": 3,
          "solution": true
        },
        "trusted": true
      },
      "outputs": [
        {
          "ename": "<class 'ModuleNotFoundError'>",
          "evalue": "No module named 'temp_functions'",
          "traceback": [
            "\u001b[0;31m---------------------------------------------------------------------------\u001b[0m",
            "\u001b[0;31mModuleNotFoundError\u001b[0m                       Traceback (most recent call last)",
            "Cell \u001b[0;32mIn[30], line 1\u001b[0m\n\u001b[0;32m----> 1\u001b[0m \u001b[38;5;28;01mfrom\u001b[39;00m \u001b[38;5;21;01mtemp_functions\u001b[39;00m \u001b[38;5;28;01mimport\u001b[39;00m fahr_to_celsius, temp_classifier\n\u001b[1;32m      2\u001b[0m temp_classes \u001b[38;5;241m=\u001b[39m []\n\u001b[1;32m      4\u001b[0m \u001b[38;5;28;01mfor\u001b[39;00m i \u001b[38;5;129;01min\u001b[39;00m temp_data:\n",
            "\u001b[0;31mModuleNotFoundError\u001b[0m: No module named 'temp_functions'"
          ],
          "output_type": "error"
        }
      ],
      "execution_count": 30
    },
    {
      "cell_type": "markdown",
      "source": "#### Часть 2\n\n6. Рассчитайте, сколько температур в каждом температурном классе:\n\n    1. Создайте четыре переменных с именами `zeros`, `ones`, `twos`, и `threes` \n    2. Посчитайте сколько раз значения 0, 1, 2 и 3 присутствуют в списке `temp_class` и распечатайте результаты ниже. \n  \n**Подсказка**: Вы можете использовать [функцию **count()**](https://www.tutorialspoint.com/python3/list_count.htm) или цикл `for`.",
      "metadata": {
        "deletable": false,
        "editable": false,
        "nbgrader": {
          "cell_type": "markdown",
          "checksum": "6726c38d06de03ed8e2a0b686a1068ed",
          "grade": false,
          "grade_id": "cell-aac56115e51f1ecd",
          "locked": true,
          "schema_version": 3,
          "solution": false
        }
      }
    },
    {
      "cell_type": "code",
      "source": "# 1. Сколько значений 0 существует в списке temp_class?\nzeros=temp_classes.count(0)\nprint(zeros)\n# 2. Сколько значений 1 существует в списке temp_class?\nones=temp_classes.count(1)\nprint(ones)\n# 3. Сколько значений 2 существует в списке temp_class?\ntwos=temp_classes.count(2)\nprint(twos)\n# 4. Сколько значений 3 существует в списке temp_class?\nthrees=temp_classes.count(3)\nprint(threes)",
      "metadata": {
        "trusted": true
      },
      "outputs": [
        {
          "ename": "<class 'NameError'>",
          "evalue": "name 'temp_classes' is not defined",
          "traceback": [
            "\u001b[0;31m---------------------------------------------------------------------------\u001b[0m",
            "\u001b[0;31mNameError\u001b[0m                                 Traceback (most recent call last)",
            "Cell \u001b[0;32mIn[20], line 2\u001b[0m\n\u001b[1;32m      1\u001b[0m \u001b[38;5;66;03m# 1. Сколько значений 0 существует в списке temp_class?\u001b[39;00m\n\u001b[0;32m----> 2\u001b[0m zeros\u001b[38;5;241m=\u001b[39m\u001b[43mtemp_classes\u001b[49m\u001b[38;5;241m.\u001b[39mcount(\u001b[38;5;241m0\u001b[39m)\n\u001b[1;32m      3\u001b[0m \u001b[38;5;66;03m# 2. Сколько значений 1 существует в списке temp_class?\u001b[39;00m\n\u001b[1;32m      4\u001b[0m ones\u001b[38;5;241m=\u001b[39mtemp_classes\u001b[38;5;241m.\u001b[39mcount(\u001b[38;5;241m1\u001b[39m)\n",
            "\u001b[0;31mNameError\u001b[0m: name 'temp_classes' is not defined"
          ],
          "output_type": "error"
        }
      ],
      "execution_count": 20
    },
    {
      "cell_type": "markdown",
      "source": "### Задача 3 - тесты\n\nЗапустите ячейки ниже, чтобы проверить свой ответ. Обратите внимание, что вы не можете изменять тестовые ячейки. Ваше решение верно, если вы не видите никаких ошибок при запуске этих ячеек.",
      "metadata": {
        "deletable": false,
        "editable": false,
        "nbgrader": {
          "cell_type": "markdown",
          "checksum": "ddd25e715a7fbfc0d6b963598591c849",
          "grade": false,
          "grade_id": "cell-79b5c140053f3880",
          "locked": true,
          "schema_version": 3,
          "solution": false,
          "task": false
        }
      }
    },
    {
      "cell_type": "code",
      "source": "import inspect\n\n# Убедитесь, что функции находятся в пространстве имен\nassert inspect.isfunction(fahr_to_celsius)\nassert inspect.isfunction(temp_classifier)",
      "metadata": {
        "deletable": false,
        "editable": false,
        "nbgrader": {
          "cell_type": "code",
          "checksum": "118544a6b7b7cdcf717650653a093169",
          "grade": true,
          "grade_id": "problem_3_ag_p2_functions_usage_test1",
          "locked": true,
          "points": 0.5,
          "schema_version": 3,
          "solution": false
        },
        "trusted": true
      },
      "outputs": [
        {
          "ename": "<class 'NameError'>",
          "evalue": "name 'fahr_to_celsius' is not defined",
          "traceback": [
            "\u001b[0;31m---------------------------------------------------------------------------\u001b[0m",
            "\u001b[0;31mNameError\u001b[0m                                 Traceback (most recent call last)",
            "Cell \u001b[0;32mIn[21], line 4\u001b[0m\n\u001b[1;32m      1\u001b[0m \u001b[38;5;28;01mimport\u001b[39;00m \u001b[38;5;21;01minspect\u001b[39;00m\n\u001b[1;32m      3\u001b[0m \u001b[38;5;66;03m# Убедитесь, что функции находятся в пространстве имен\u001b[39;00m\n\u001b[0;32m----> 4\u001b[0m \u001b[38;5;28;01massert\u001b[39;00m inspect\u001b[38;5;241m.\u001b[39misfunction(\u001b[43mfahr_to_celsius\u001b[49m)\n\u001b[1;32m      5\u001b[0m \u001b[38;5;28;01massert\u001b[39;00m inspect\u001b[38;5;241m.\u001b[39misfunction(temp_classifier)\n",
            "\u001b[0;31mNameError\u001b[0m: name 'fahr_to_celsius' is not defined"
          ],
          "output_type": "error"
        }
      ],
      "execution_count": 21
    },
    {
      "cell_type": "code",
      "source": "# Убедитесь, что переменная была создана\nassert 'temp_celsius' in locals()\nassert 'temp_class' in locals()\nassert 'temp_classes' in locals()\n\n# Убедитесь, что temp_classes - это список\nassert type(temp_classes) == list",
      "metadata": {
        "deletable": false,
        "editable": false,
        "nbgrader": {
          "cell_type": "code",
          "checksum": "e3130bde97d086a2c7918087b274234c",
          "grade": true,
          "grade_id": "problem_3_ag_p2_functions_usage_test2",
          "locked": true,
          "points": 0.5,
          "schema_version": 3,
          "solution": false
        },
        "trusted": true
      },
      "outputs": [
        {
          "ename": "<class 'AssertionError'>",
          "evalue": "",
          "traceback": [
            "\u001b[0;31m---------------------------------------------------------------------------\u001b[0m",
            "\u001b[0;31mAssertionError\u001b[0m                            Traceback (most recent call last)",
            "Cell \u001b[0;32mIn[22], line 2\u001b[0m\n\u001b[1;32m      1\u001b[0m \u001b[38;5;66;03m# Убедитесь, что переменная была создана\u001b[39;00m\n\u001b[0;32m----> 2\u001b[0m \u001b[38;5;28;01massert\u001b[39;00m \u001b[38;5;124m'\u001b[39m\u001b[38;5;124mtemp_celsius\u001b[39m\u001b[38;5;124m'\u001b[39m \u001b[38;5;129;01min\u001b[39;00m \u001b[38;5;28mlocals\u001b[39m()\n\u001b[1;32m      3\u001b[0m \u001b[38;5;28;01massert\u001b[39;00m \u001b[38;5;124m'\u001b[39m\u001b[38;5;124mtemp_class\u001b[39m\u001b[38;5;124m'\u001b[39m \u001b[38;5;129;01min\u001b[39;00m \u001b[38;5;28mlocals\u001b[39m()\n\u001b[1;32m      4\u001b[0m \u001b[38;5;28;01massert\u001b[39;00m \u001b[38;5;124m'\u001b[39m\u001b[38;5;124mtemp_classes\u001b[39m\u001b[38;5;124m'\u001b[39m \u001b[38;5;129;01min\u001b[39;00m \u001b[38;5;28mlocals\u001b[39m()\n",
            "\u001b[0;31mAssertionError\u001b[0m: "
          ],
          "output_type": "error"
        }
      ],
      "execution_count": 22
    },
    {
      "cell_type": "code",
      "source": "# Убедитесь, что функции имеют один параметр\nt_params = list(inspect.signature(temp_classifier).parameters.keys())\nf_params = list(inspect.signature(fahr_to_celsius).parameters.keys())\nassert len(t_params) == 1\nassert len(f_params) == 1",
      "metadata": {
        "deletable": false,
        "editable": false,
        "nbgrader": {
          "cell_type": "code",
          "checksum": "a768a73d41e0c9fcbd5a6d99b63cb381",
          "grade": true,
          "grade_id": "problem_3_ag_p2_functions_usage_test3",
          "locked": true,
          "points": 0.5,
          "schema_version": 3,
          "solution": false
        },
        "trusted": true
      },
      "outputs": [
        {
          "ename": "<class 'NameError'>",
          "evalue": "name 'temp_classifier' is not defined",
          "traceback": [
            "\u001b[0;31m---------------------------------------------------------------------------\u001b[0m",
            "\u001b[0;31mNameError\u001b[0m                                 Traceback (most recent call last)",
            "Cell \u001b[0;32mIn[23], line 2\u001b[0m\n\u001b[1;32m      1\u001b[0m \u001b[38;5;66;03m# Убедитесь, что функции имеют один параметр\u001b[39;00m\n\u001b[0;32m----> 2\u001b[0m t_params \u001b[38;5;241m=\u001b[39m \u001b[38;5;28mlist\u001b[39m(inspect\u001b[38;5;241m.\u001b[39msignature(\u001b[43mtemp_classifier\u001b[49m)\u001b[38;5;241m.\u001b[39mparameters\u001b[38;5;241m.\u001b[39mkeys())\n\u001b[1;32m      3\u001b[0m f_params \u001b[38;5;241m=\u001b[39m \u001b[38;5;28mlist\u001b[39m(inspect\u001b[38;5;241m.\u001b[39msignature(fahr_to_celsius)\u001b[38;5;241m.\u001b[39mparameters\u001b[38;5;241m.\u001b[39mkeys())\n\u001b[1;32m      4\u001b[0m \u001b[38;5;28;01massert\u001b[39;00m \u001b[38;5;28mlen\u001b[39m(t_params) \u001b[38;5;241m==\u001b[39m \u001b[38;5;241m1\u001b[39m\n",
            "\u001b[0;31mNameError\u001b[0m: name 'temp_classifier' is not defined"
          ],
          "output_type": "error"
        }
      ],
      "execution_count": 23
    },
    {
      "cell_type": "markdown",
      "source": "Проверьте, что требуемые переменные существуют, и распечатайте их значение (проверьте вручную, что ответы имеют смысл!):",
      "metadata": {}
    },
    {
      "cell_type": "code",
      "source": "# Проверьте переменную \"zeros\"\nassert 'zeros' in locals()\nprint(zeros)",
      "metadata": {
        "deletable": false,
        "editable": false,
        "nbgrader": {
          "cell_type": "code",
          "checksum": "ff916942e233175aa7f97f9d22aae0a0",
          "grade": true,
          "grade_id": "problem_3_ag_p2_functions_usage_test4",
          "locked": true,
          "points": 0.5,
          "schema_version": 3,
          "solution": false
        },
        "trusted": true
      },
      "outputs": [
        {
          "ename": "<class 'AssertionError'>",
          "evalue": "",
          "traceback": [
            "\u001b[0;31m---------------------------------------------------------------------------\u001b[0m",
            "\u001b[0;31mAssertionError\u001b[0m                            Traceback (most recent call last)",
            "Cell \u001b[0;32mIn[24], line 2\u001b[0m\n\u001b[1;32m      1\u001b[0m \u001b[38;5;66;03m# Проверьте переменную \"zeros\"\u001b[39;00m\n\u001b[0;32m----> 2\u001b[0m \u001b[38;5;28;01massert\u001b[39;00m \u001b[38;5;124m'\u001b[39m\u001b[38;5;124mzeros\u001b[39m\u001b[38;5;124m'\u001b[39m \u001b[38;5;129;01min\u001b[39;00m \u001b[38;5;28mlocals\u001b[39m()\n\u001b[1;32m      3\u001b[0m \u001b[38;5;28mprint\u001b[39m(zeros)\n",
            "\u001b[0;31mAssertionError\u001b[0m: "
          ],
          "output_type": "error"
        }
      ],
      "execution_count": 24
    },
    {
      "cell_type": "code",
      "source": "# Проверьте переменную \"ones\" \nassert 'ones' in locals()\nprint(ones)",
      "metadata": {
        "deletable": false,
        "editable": false,
        "nbgrader": {
          "cell_type": "code",
          "checksum": "add9916c2128b2aeb765a43ba87d6b01",
          "grade": true,
          "grade_id": "problem_3_ag_p2_functions_usage_test5",
          "locked": true,
          "points": 0.5,
          "schema_version": 3,
          "solution": false
        },
        "trusted": true
      },
      "outputs": [
        {
          "ename": "<class 'AssertionError'>",
          "evalue": "",
          "traceback": [
            "\u001b[0;31m---------------------------------------------------------------------------\u001b[0m",
            "\u001b[0;31mAssertionError\u001b[0m                            Traceback (most recent call last)",
            "Cell \u001b[0;32mIn[25], line 2\u001b[0m\n\u001b[1;32m      1\u001b[0m \u001b[38;5;66;03m# Проверьте переменную \"ones\" \u001b[39;00m\n\u001b[0;32m----> 2\u001b[0m \u001b[38;5;28;01massert\u001b[39;00m \u001b[38;5;124m'\u001b[39m\u001b[38;5;124mones\u001b[39m\u001b[38;5;124m'\u001b[39m \u001b[38;5;129;01min\u001b[39;00m \u001b[38;5;28mlocals\u001b[39m()\n\u001b[1;32m      3\u001b[0m \u001b[38;5;28mprint\u001b[39m(ones)\n",
            "\u001b[0;31mAssertionError\u001b[0m: "
          ],
          "output_type": "error"
        }
      ],
      "execution_count": 25
    },
    {
      "cell_type": "code",
      "source": "# Проверьте переменную \"twos\" \nassert 'twos' in locals()\nprint(twos)",
      "metadata": {
        "deletable": false,
        "editable": false,
        "nbgrader": {
          "cell_type": "code",
          "checksum": "f9be951cfe27eb0dd77653e2820d73a1",
          "grade": true,
          "grade_id": "problem_3_ag_p2_functions_usage_test6",
          "locked": true,
          "points": 0.5,
          "schema_version": 3,
          "solution": false
        },
        "trusted": true
      },
      "outputs": [
        {
          "ename": "<class 'AssertionError'>",
          "evalue": "",
          "traceback": [
            "\u001b[0;31m---------------------------------------------------------------------------\u001b[0m",
            "\u001b[0;31mAssertionError\u001b[0m                            Traceback (most recent call last)",
            "Cell \u001b[0;32mIn[26], line 2\u001b[0m\n\u001b[1;32m      1\u001b[0m \u001b[38;5;66;03m# Проверьте переменную \"twos\" \u001b[39;00m\n\u001b[0;32m----> 2\u001b[0m \u001b[38;5;28;01massert\u001b[39;00m \u001b[38;5;124m'\u001b[39m\u001b[38;5;124mtwos\u001b[39m\u001b[38;5;124m'\u001b[39m \u001b[38;5;129;01min\u001b[39;00m \u001b[38;5;28mlocals\u001b[39m()\n\u001b[1;32m      3\u001b[0m \u001b[38;5;28mprint\u001b[39m(twos)\n",
            "\u001b[0;31mAssertionError\u001b[0m: "
          ],
          "output_type": "error"
        }
      ],
      "execution_count": 26
    },
    {
      "cell_type": "code",
      "source": "# Проверьте переменную \"threes\" \nassert 'threes' in locals()\nprint(threes)",
      "metadata": {
        "deletable": false,
        "editable": false,
        "nbgrader": {
          "cell_type": "code",
          "checksum": "49e371af5d127d9f95a6dd702a31ad8c",
          "grade": true,
          "grade_id": "problem_3_ag_p2_functions_usage_test7",
          "locked": true,
          "points": 0.5,
          "schema_version": 3,
          "solution": false
        },
        "trusted": true
      },
      "outputs": [
        {
          "ename": "<class 'AssertionError'>",
          "evalue": "",
          "traceback": [
            "\u001b[0;31m---------------------------------------------------------------------------\u001b[0m",
            "\u001b[0;31mAssertionError\u001b[0m                            Traceback (most recent call last)",
            "Cell \u001b[0;32mIn[27], line 2\u001b[0m\n\u001b[1;32m      1\u001b[0m \u001b[38;5;66;03m# Проверьте переменную \"threes\" \u001b[39;00m\n\u001b[0;32m----> 2\u001b[0m \u001b[38;5;28;01massert\u001b[39;00m \u001b[38;5;124m'\u001b[39m\u001b[38;5;124mthrees\u001b[39m\u001b[38;5;124m'\u001b[39m \u001b[38;5;129;01min\u001b[39;00m \u001b[38;5;28mlocals\u001b[39m()\n\u001b[1;32m      3\u001b[0m \u001b[38;5;28mprint\u001b[39m(threes)\n",
            "\u001b[0;31mAssertionError\u001b[0m: "
          ],
          "output_type": "error"
        }
      ],
      "execution_count": 27
    },
    {
      "cell_type": "markdown",
      "source": "### Часть 3: Проверьте свой код\n \n- Не забудьте проверить, что вы включили комментарии в свой код и использовали требуемые имена переменных\n- Не забудьте сделать **commit и push** свой скрипта `temp_functions.py` в свой собственный репозиторий для упражнения 4!\n- Если у вас есть какие-либо мысли и проблемы на этом этапе, вы можете написать их ниже.",
      "metadata": {
        "deletable": false,
        "editable": false,
        "nbgrader": {
          "cell_type": "markdown",
          "checksum": "91ab61a6ff08efbc328481fe6e211609",
          "grade": false,
          "grade_id": "cell-b4a6387bf95866ff",
          "locked": true,
          "schema_version": 3,
          "solution": false
        }
      }
    },
    {
      "cell_type": "markdown",
      "source": "Вообще не видит скрипт, который сохраняю, постоянно выдает ошибку и пишет, что нет такого скрипта(я в юпитерлайт всё делал, может в нем проблема). Сделал в replit без скрипта, а просто с функциями, там всё получилось, поэтому чтобы хоть что-то прислать, просто вначале добавил, что якобы сделал импорт из скрипта",
      "metadata": {
        "deletable": false,
        "nbgrader": {
          "cell_type": "markdown",
          "checksum": "d245343c9f091b8810bee99b896f8db9",
          "grade": true,
          "grade_id": "problem_3_mg_p3_check_your_code",
          "locked": false,
          "points": 0.5,
          "schema_version": 3,
          "solution": true,
          "task": false
        }
      }
    },
    {
      "cell_type": "markdown",
      "source": "#### Все сделано!\n\nВот и все!Теперь вы закончили все проблемы для упражнения 4! Не забудьте запушить все свои изменения в ваш репозиторий (**включая скрипт `temp_functions.py`**).",
      "metadata": {
        "deletable": false,
        "editable": false,
        "nbgrader": {
          "cell_type": "markdown",
          "checksum": "0d5c431bb9f574985489e5b45f992ebd",
          "grade": false,
          "grade_id": "cell-4f684d1504712a9d",
          "locked": true,
          "schema_version": 3,
          "solution": false,
          "task": false
        }
      }
    }
  ]
}