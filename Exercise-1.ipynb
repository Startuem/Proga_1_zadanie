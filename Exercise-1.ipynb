{
 "metadata": {
  "language_info": {
   "name": "python",
   "version": "3.10.12",
   "mimetype": "text/x-python",
   "codemirror_mode": {
    "name": "ipython",
    "version": 3
   },
   "pygments_lexer": "ipython3",
   "nbconvert_exporter": "python",
   "file_extension": ".py"
  },
  "kernelspec": {
   "name": "python3",
   "display_name": "Python 3 (ipykernel)",
   "language": "python"
  }
 },
 "nbformat_minor": 5,
 "nbformat": 4,
 "cells": [
  {
   "cell_type": "markdown",
   "source": [
    "## Задача 1"
   ],
   "metadata": {},
   "id": "02aa5146-d53e-4c62-b48f-82b6fd0c2f0b"
  },
  {
   "cell_type": "markdown",
   "source": [
    "выполнено :)"
   ],
   "metadata": {},
   "id": "b5359156-f866-431f-b6f6-466e62bda59f"
  },
  {
   "cell_type": "markdown",
   "source": [
    "## Задача 2"
   ],
   "metadata": {},
   "id": "9aaf1e5d-f5e9-4a33-be26-6fe6e0be7216"
  },
  {
   "cell_type": "code",
   "source": [
    "ice_cream_rating = 8"
   ],
   "metadata": {
    "trusted": true,
    "tags": []
   },
   "execution_count": 11,
   "outputs": [],
   "id": "bd527a00-476a-4821-8419-9d788a83ebfa"
  },
  {
   "cell_type": "code",
   "source": [
    "sleep_rating = 9"
   ],
   "metadata": {
    "trusted": true,
    "tags": []
   },
   "execution_count": 12,
   "outputs": [],
   "id": "849e9d56-0d9f-4572-98eb-5f0ff095ecd1"
  },
  {
   "cell_type": "markdown",
   "source": [
    "## Задача 3"
   ],
   "metadata": {},
   "id": "0e920fef-c44c-4974-9dac-c18529989612"
  },
  {
   "cell_type": "code",
   "source": [
    "first_name = 'Pavel'\n",
    "last_name = 'Fedorov'\n",
    "my_name = F\"{first_name} {last_name}\""
   ],
   "metadata": {
    "trusted": true,
    "tags": []
   },
   "execution_count": 13,
   "outputs": [],
   "id": "6f8ed5c9-e03e-4dc6-b554-5714cd637e58"
  },
  {
   "cell_type": "markdown",
   "source": [
    "## Задача 4"
   ],
   "metadata": {},
   "id": "a9488172-ebab-4da3-89ee-759dd6d8e3f5"
  },
  {
   "cell_type": "code",
   "source": [
    "happiness_rating = (ice_cream_rating + sleep_rating) / 2"
   ],
   "metadata": {
    "trusted": true,
    "tags": []
   },
   "execution_count": 14,
   "outputs": [],
   "id": "8b01d953-fd96-4145-b1d4-d5d37d1ad0ba"
  },
  {
   "cell_type": "markdown",
   "source": [
    "## Задача 5"
   ],
   "metadata": {},
   "id": "8a32dcf5-0ac6-407c-84ab-b4cc5810cef0"
  },
  {
   "cell_type": "code",
   "source": [
    "print(type(ice_cream_rating))\n",
    "print(type(first_name))\n",
    "print(type(happiness_rating))\n"
   ],
   "metadata": {
    "trusted": true,
    "tags": []
   },
   "execution_count": 15,
   "outputs": [
    {
     "name": "stdout",
     "text": "<class 'int'>\n<class 'str'>\n<class 'float'>\n",
     "output_type": "stream"
    }
   ],
   "id": "714e96e3-0951-41e5-9bf2-1bbff8c3d89e"
  },
  {
   "cell_type": "markdown",
   "source": [
    "1.В принципе, все типы имеют смысл ¯⁠\\⁠_⁠(⁠ツ⁠)⁠_⁠/⁠¯\n",
    "2.Всё ожидаемо :)"
   ],
   "metadata": {},
   "id": "b6cbacba-ae9c-45cd-abd1-93fdcc83e12b"
  },
  {
   "cell_type": "markdown",
   "source": [
    "## Задача 6"
   ],
   "metadata": {
    "tags": []
   },
   "id": "a70a9978-455b-4493-92ad-2ca7fac0b88e"
  },
  {
   "cell_type": "code",
   "source": [
    "v_procentah = happiness_rating / 10 * 100\n",
    "print(\n",
    "    f\"Меня зовут {first_name}, и я ставлю мороженому {ice_cream_rating} баллов из 10! \\n\"\n",
    "    f\"Я {my_name}, и мой рейтинг удовольствия от сна — {sleep_rating} из 10! \\n\"\n",
    "    f\"Исходя из вышеперечисленных факторов, мой рейтинг счастья составляет {happiness_rating} из 10, или {v_procentah}%!\"\n",
    ")\n",
    "    "
   ],
   "metadata": {
    "trusted": true,
    "tags": []
   },
   "execution_count": 16,
   "outputs": [
    {
     "name": "stdout",
     "text": "Меня зовут Pavel, и я ставлю мороженому 8 баллов из 10! \nЯ Pavel Fedorov, и мой рейтинг удовольствия от сна — 9 из 10! \nИсходя из вышеперечисленных факторов, мой рейтинг счастья составляет 8.5 из 10, или 85.0%!\n",
     "output_type": "stream"
    }
   ],
   "id": "ae055e1b-ad46-4c1c-8fd5-d83c7c7937c4"
  }
 ]
}
