{
  "metadata": {
    "kernelspec": {
      "name": "python",
      "display_name": "Python (Pyodide)",
      "language": "python"
    },
    "language_info": {
      "codemirror_mode": {
        "name": "python",
        "version": 3
      },
      "file_extension": ".py",
      "mimetype": "text/x-python",
      "name": "python",
      "nbconvert_exporter": "python",
      "pygments_lexer": "ipython3",
      "version": "3.8"
    },
    "anaconda-cloud": {}
  },
  "nbformat_minor": 4,
  "nbformat": 4,
  "cells": [
    {
      "cell_type": "markdown",
      "source": "## Задача 1 - Пакетная обработка файлов данных с помощью цикла `for`\n\nЭта задача предназначена для моделирования общей проблемы, связанной с файлами данных: их пакетная обработка. Обработка обычно включает процесс работы с несколькими или многими файлами данных, и задачей является генерирование списка имен файлов, которые будут обработаны или сохранены на диск.\n\nДля этой проблемы вам нужно будет изменить уже существующие блоки кода, а также добавить код для получения желаемых результатов.\n\n### Советы по выполнению упражнения\n\n- Используйте **в точности** те же имена переменных, что и в инструкциях, потому что ваши ответы будут автоматически оценены, и тесты, которые оценивают ваши ответы, зависят от того же форматирования или именования переменных, что и в инструкциях.\n\n- **Пожалуйста не**:\n\n    - **Изменяйте имена файлов**. Сделайте все свое редактирование в файле `Exercise-3-problem-1.ipynb` (этом файле).\n    - **Копируйте/вставляйте ячейки в этом блокноте**. Мы используем автоматизированную систему оценки, которая не будет работать, если есть копии кодовых ячеек.\n    - **Изменяйте типы ячеек**. Вы можете добавить ячейки, но изменение типов ячеек для существующих ячеек (например, c кода на Markdown) также приведет к выходу из строя автоматизированной проверки.\n\n### Условия успешного выполнения задания\n\n - Создание и использование переменных для получения желаемого текстового формата\n - Использование цикла `for` для итерации по набору чисел\n - Создание требуемых имен файлов\n - Наличие комментариев в коде\n - Ответы на вопросы в конце задания\n - Загрузка вашего блокнота в репозиторий",
      "metadata": {
        "deletable": false,
        "editable": false,
        "nbgrader": {
          "cell_type": "markdown",
          "checksum": "05836a015aff3ab8793c047868cd9f93",
          "grade": false,
          "grade_id": "cell-348fe9af7be22c87",
          "locked": true,
          "schema_version": 3,
          "solution": false
        }
      }
    },
    {
      "cell_type": "markdown",
      "source": "## Соглашение об использовании ИИ\n\n**Введите свое имя в ячейку ниже** чтобы подтвердить, что вы следовали [принципам курса об использовании инструментов ИИ](https://geo-python-2024.readthedocs.io/ru/latest/course-info/ai-tools.html) и понимаете, что использование инструментов ИИ считается обманом.",
      "metadata": {
        "deletable": false,
        "editable": false,
        "nbgrader": {
          "cell_type": "markdown",
          "checksum": "540561cb71a37a28082064d790984b84",
          "grade": false,
          "grade_id": "cell-bfde0cacacdb5f43",
          "locked": true,
          "schema_version": 3,
          "solution": false,
          "task": false
        },
        "tags": []
      }
    },
    {
      "cell_type": "markdown",
      "source": "Pavel Fedorov",
      "metadata": {
        "deletable": false,
        "nbgrader": {
          "cell_type": "markdown",
          "checksum": "b474aeb0a87694ba51e3d978954e32bf",
          "grade": true,
          "grade_id": "E3-P1-AI-LLM_statement",
          "locked": false,
          "points": 0,
          "schema_version": 3,
          "solution": true,
          "task": false
        },
        "tags": []
      }
    },
    {
      "cell_type": "markdown",
      "source": "### Часть 1\n\n- Создайте переменную `basename` которая содержит текст `\"Station\"`.",
      "metadata": {
        "deletable": false,
        "editable": false,
        "nbgrader": {
          "cell_type": "markdown",
          "checksum": "8f07669e17d514eb8c6e36568a860792",
          "grade": false,
          "grade_id": "cell-f9b41a4eab2aca48",
          "locked": true,
          "schema_version": 3,
          "solution": false
        }
      }
    },
    {
      "cell_type": "code",
      "source": "basename = \"Station\"",
      "metadata": {
        "deletable": false,
        "nbgrader": {
          "cell_type": "code",
          "checksum": "12e040b9eb0362590bfaff7375465c02",
          "grade": false,
          "grade_id": "problem_1_ag_p1_station_name",
          "locked": false,
          "schema_version": 3,
          "solution": true
        },
        "trusted": true
      },
      "outputs": [],
      "execution_count": 71
    },
    {
      "cell_type": "code",
      "source": "# Тест печати переменной\nprint(basename)",
      "metadata": {
        "deletable": false,
        "editable": false,
        "nbgrader": {
          "cell_type": "code",
          "checksum": "dec69f2dc3b03b0e6ef13475b4a46e14",
          "grade": true,
          "grade_id": "problem_1_ag_p1_station_name_test1",
          "locked": true,
          "points": 0.2,
          "schema_version": 3,
          "solution": false
        },
        "trusted": true
      },
      "outputs": [
        {
          "name": "stdout",
          "text": "Station\n",
          "output_type": "stream"
        }
      ],
      "execution_count": 72
    },
    {
      "cell_type": "markdown",
      "source": "\n- Создайте новую переменную `filenames` как пустой список.",
      "metadata": {
        "deletable": false,
        "editable": false,
        "nbgrader": {
          "cell_type": "markdown",
          "checksum": "cc7a315a61e7c7153465f8c0de6c3d0f",
          "grade": false,
          "grade_id": "cell-90f13269de45ecdb",
          "locked": true,
          "schema_version": 3,
          "solution": false
        }
      }
    },
    {
      "cell_type": "code",
      "source": "filenames = []",
      "metadata": {
        "deletable": false,
        "nbgrader": {
          "cell_type": "code",
          "checksum": "47f302ce4fe78bd985e7a5a42b2a56a4",
          "grade": false,
          "grade_id": "problem_1_ag_p1_empty_filenames_list",
          "locked": false,
          "schema_version": 3,
          "solution": true
        },
        "trusted": true
      },
      "outputs": [],
      "execution_count": 73
    },
    {
      "cell_type": "code",
      "source": "# Тест печати переменной\nprint(filenames)",
      "metadata": {
        "deletable": false,
        "editable": false,
        "nbgrader": {
          "cell_type": "code",
          "checksum": "2c1396aa21b70443600ba6eb37ad006d",
          "grade": true,
          "grade_id": "problem_1_ag_p1_empty_filenames_list_test1",
          "locked": true,
          "points": 0.3,
          "schema_version": 3,
          "solution": false
        },
        "trusted": true
      },
      "outputs": [
        {
          "name": "stdout",
          "text": "[]\n",
          "output_type": "stream"
        }
      ],
      "execution_count": 74
    },
    {
      "cell_type": "markdown",
      "source": "### Часть 2\n\n- С помощью цикла `for`, пробегите по числовому диапазону 0-20. В теле цикла вы должны:\n    - Создать переменную `station` которая содержит:\n        1. текст из переменной `basename`\n        2. число\n        3. расширение файла `.txt`  \n    - Добавьте содержимое `station` в список `filenames`, чтобы получить следующий результат:\n\n      ```\n      ['Station_0.txt', 'Station_1.txt', 'Station_2.txt', 'Station_3.txt',\n       'Station_4.txt', 'Station_5.txt', 'Station_6.txt', 'Station_7.txt',\n       'Station_8.txt', 'Station_9.txt', 'Station_10.txt', 'Station_11.txt',\n       'Station_12.txt', 'Station_13.txt', 'Station_14.txt', 'Station_15.txt',\n       'Station_16.txt', 'Station_17.txt', 'Station_18.txt', 'Station_19.txt',\n       'Station_20.txt']\n      ```",
      "metadata": {
        "deletable": false,
        "editable": false,
        "nbgrader": {
          "cell_type": "markdown",
          "checksum": "56967eacfd44f42befc37641e80fa247",
          "grade": false,
          "grade_id": "cell-341524f278e72900",
          "locked": true,
          "schema_version": 3,
          "solution": false
        }
      }
    },
    {
      "cell_type": "code",
      "source": "for i in range(0, 21):\n    station = basename + \"_\" + str(i) + \".txt\"\n    filenames.append(station)\n    # Наверное .txt можно еще как-то по-другому добавить",
      "metadata": {
        "deletable": false,
        "nbgrader": {
          "cell_type": "code",
          "checksum": "ba03f859005ebdf315b63b4ef092075a",
          "grade": false,
          "grade_id": "problem_1_ag_p2_populate_filenames_list",
          "locked": false,
          "schema_version": 3,
          "solution": true
        },
        "trusted": true
      },
      "outputs": [],
      "execution_count": 75
    },
    {
      "cell_type": "code",
      "source": "# Тест печати результатов\nprint(filenames)",
      "metadata": {
        "deletable": false,
        "editable": false,
        "nbgrader": {
          "cell_type": "code",
          "checksum": "4a04048eb48df0e6cfdaf86c0b44bdce",
          "grade": true,
          "grade_id": "problem_1_ag_p2_populate_filenames_list_test1",
          "locked": true,
          "points": 0.2,
          "schema_version": 3,
          "solution": false
        },
        "trusted": true
      },
      "outputs": [
        {
          "name": "stdout",
          "text": "['Station_0.txt', 'Station_1.txt', 'Station_2.txt', 'Station_3.txt', 'Station_4.txt', 'Station_5.txt', 'Station_6.txt', 'Station_7.txt', 'Station_8.txt', 'Station_9.txt', 'Station_10.txt', 'Station_11.txt', 'Station_12.txt', 'Station_13.txt', 'Station_14.txt', 'Station_15.txt', 'Station_16.txt', 'Station_17.txt', 'Station_18.txt', 'Station_19.txt', 'Station_20.txt']\n",
          "output_type": "stream"
        }
      ],
      "execution_count": 76
    },
    {
      "cell_type": "code",
      "source": "# Убеждаемся, что значение последней станции верно\nassert station.lower().strip() == 'station_20.txt', 'Значение последней станции неверно'",
      "metadata": {
        "deletable": false,
        "editable": false,
        "nbgrader": {
          "cell_type": "code",
          "checksum": "e36bd20444a47c0fc0112f92e624d310",
          "grade": true,
          "grade_id": "problem_1_ag_p2_populate_filenames_list_test2",
          "locked": true,
          "points": 0.3,
          "schema_version": 3,
          "solution": false
        },
        "trusted": true
      },
      "outputs": [],
      "execution_count": 68
    },
    {
      "cell_type": "code",
      "source": "# Убеждаемся, что значение последней станции верно\nassert station.lower().strip() == 'station_20.txt', 'Значение последней станции неверно'",
      "metadata": {
        "editable": false,
        "nbgrader": {
          "cell_type": "code",
          "checksum": "e36bd20444a47c0fc0112f92e624d310",
          "grade": true,
          "grade_id": "problem_1_ag_p2_populate_filenames_list_test2",
          "locked": true,
          "points": 0.3,
          "schema_version": 3,
          "solution": false
        },
        "trusted": true
      },
      "outputs": [],
      "execution_count": 69
    },
    {
      "cell_type": "code",
      "source": "# Убеждаемся, что в списке 21 значение\nassert len(filenames) == 21, 'Длина списка \"filenames\" должна быть 21'",
      "metadata": {
        "deletable": false,
        "editable": false,
        "nbgrader": {
          "cell_type": "code",
          "checksum": "12c321deff384a2e5f31ba1c4f073a97",
          "grade": true,
          "grade_id": "problem_1_ag_p2_populate_filenames_list_test3",
          "locked": true,
          "points": 1,
          "schema_version": 3,
          "solution": false
        },
        "trusted": true
      },
      "outputs": [],
      "execution_count": 70
    },
    {
      "cell_type": "markdown",
      "source": "### Часть 3\n\nНиже несколько вопросов, чтобы убедиться, что вы усвоили материал. Пожалуйста, ответьте кратко, в нескольких предложениях, используя ячейку Markdown ниже.\n\nВы также можете написать любые отзывы или вопросы, касающиеся этого упражнения.\n\n1. Ясна ли вам концепция цикла `for`? Если нет, что было трудно понять?\n2. Вы добавили комментарии к своему кода? Если нет, пожалуйста, добавьте сейчас :)\n  \nНапишите свои ответы ниже (дважды щелкните, чтобы активировать и редактировать ячейку ниже).",
      "metadata": {
        "deletable": false,
        "editable": false,
        "nbgrader": {
          "cell_type": "markdown",
          "checksum": "275f365dadc40989e5eb1893d8064d9d",
          "grade": false,
          "grade_id": "cell-8a96733ac5a7e13b",
          "locked": true,
          "schema_version": 3,
          "solution": false
        }
      }
    },
    {
      "cell_type": "markdown",
      "source": "1.Насчет for вроде всё понятно\n2. Комментарий есть, но зачем... :)\n",
      "metadata": {
        "deletable": false,
        "nbgrader": {
          "cell_type": "markdown",
          "checksum": "445b71229ad071b770ab619718e28eb1",
          "grade": true,
          "grade_id": "problem_1_mg_p3_style_assessment",
          "locked": false,
          "points": 0,
          "schema_version": 3,
          "solution": true
        }
      }
    },
    {
      "cell_type": "markdown",
      "source": "### Готово!\n\nПродолжайте работу над [заданием 2](Exercise-3-problem-2.ipynb).",
      "metadata": {
        "deletable": false,
        "editable": false,
        "nbgrader": {
          "cell_type": "markdown",
          "checksum": "f14e22621ff1309c35e49997f99456a4",
          "grade": false,
          "grade_id": "cell-efadc431fa79d91b",
          "locked": true,
          "schema_version": 3,
          "solution": false
        }
      }
    },
    {
      "cell_type": "code",
      "source": "",
      "metadata": {
        "trusted": true
      },
      "outputs": [],
      "execution_count": null
    }
  ]
}