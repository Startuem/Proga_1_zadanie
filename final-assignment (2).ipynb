{
  "metadata": {
    "kernelspec": {
      "name": "python",
      "display_name": "Python (Pyodide)",
      "language": "python"
    },
    "language_info": {
      "codemirror_mode": {
        "name": "python",
        "version": 3
      },
      "file_extension": ".py",
      "mimetype": "text/x-python",
      "name": "python",
      "nbconvert_exporter": "python",
      "pygments_lexer": "ipython3",
      "version": "3.8"
    }
  },
  "nbformat_minor": 5,
  "nbformat": 4,
  "cells": [
    {
      "id": "4823afb1-b5fe-4e07-bcd2-6b23b3f43181",
      "cell_type": "code",
      "source": "import pandas as pd",
      "metadata": {
        "trusted": true
      },
      "outputs": [],
      "execution_count": 85
    },
    {
      "id": "7309e870-21ee-477e-aeda-9aa07b46a342",
      "cell_type": "code",
      "source": "iz2024goda = 'data/2315676.txt'\nv2000god = pd.read_csv(\n        iz2024goda, \n        sep='\\s+', \n        na_values=[\"-9999\"], \n        parse_dates=[\"DATE\"], \n        date_format='%Y%m%d', \n        skiprows=[1]\n)\nv2000god.head",
      "metadata": {
        "trusted": true
      },
      "outputs": [
        {
          "ename": "<class 'TypeError'>",
          "evalue": "read_csv() got an unexpected keyword argument 'date_format'",
          "traceback": [
            "\u001b[0;31m---------------------------------------------------------------------------\u001b[0m",
            "\u001b[0;31mTypeError\u001b[0m                                 Traceback (most recent call last)",
            "Cell \u001b[0;32mIn[100], line 2\u001b[0m\n\u001b[1;32m      1\u001b[0m iz2024goda \u001b[38;5;241m=\u001b[39m \u001b[38;5;124m'\u001b[39m\u001b[38;5;124mdata/2315676.txt\u001b[39m\u001b[38;5;124m'\u001b[39m\n\u001b[0;32m----> 2\u001b[0m v2000god \u001b[38;5;241m=\u001b[39m \u001b[43mpd\u001b[49m\u001b[38;5;241;43m.\u001b[39;49m\u001b[43mread_csv\u001b[49m\u001b[43m(\u001b[49m\n\u001b[1;32m      3\u001b[0m \u001b[43m        \u001b[49m\u001b[43miz2024goda\u001b[49m\u001b[43m,\u001b[49m\u001b[43m \u001b[49m\n\u001b[1;32m      4\u001b[0m \u001b[43m        \u001b[49m\u001b[43msep\u001b[49m\u001b[38;5;241;43m=\u001b[39;49m\u001b[38;5;124;43m'\u001b[39;49m\u001b[38;5;124;43m\\\u001b[39;49m\u001b[38;5;124;43ms+\u001b[39;49m\u001b[38;5;124;43m'\u001b[39;49m\u001b[43m,\u001b[49m\u001b[43m \u001b[49m\n\u001b[1;32m      5\u001b[0m \u001b[43m        \u001b[49m\u001b[43mna_values\u001b[49m\u001b[38;5;241;43m=\u001b[39;49m\u001b[43m[\u001b[49m\u001b[38;5;124;43m\"\u001b[39;49m\u001b[38;5;124;43m-9999\u001b[39;49m\u001b[38;5;124;43m\"\u001b[39;49m\u001b[43m]\u001b[49m\u001b[43m,\u001b[49m\u001b[43m \u001b[49m\n\u001b[1;32m      6\u001b[0m \u001b[43m        \u001b[49m\u001b[43mparse_dates\u001b[49m\u001b[38;5;241;43m=\u001b[39;49m\u001b[43m[\u001b[49m\u001b[38;5;124;43m\"\u001b[39;49m\u001b[38;5;124;43mDATE\u001b[39;49m\u001b[38;5;124;43m\"\u001b[39;49m\u001b[43m]\u001b[49m\u001b[43m,\u001b[49m\u001b[43m \u001b[49m\n\u001b[1;32m      7\u001b[0m \u001b[43m        \u001b[49m\u001b[43mdate_format\u001b[49m\u001b[38;5;241;43m=\u001b[39;49m\u001b[38;5;124;43m'\u001b[39;49m\u001b[38;5;124;43m%\u001b[39;49m\u001b[38;5;124;43mY\u001b[39;49m\u001b[38;5;124;43m%\u001b[39;49m\u001b[38;5;124;43mm\u001b[39;49m\u001b[38;5;132;43;01m%d\u001b[39;49;00m\u001b[38;5;124;43m'\u001b[39;49m\u001b[43m,\u001b[49m\u001b[43m \u001b[49m\n\u001b[1;32m      8\u001b[0m \u001b[43m        \u001b[49m\u001b[43mskiprows\u001b[49m\u001b[38;5;241;43m=\u001b[39;49m\u001b[43m[\u001b[49m\u001b[38;5;241;43m1\u001b[39;49m\u001b[43m]\u001b[49m\n\u001b[1;32m      9\u001b[0m \u001b[43m)\u001b[49m\n\u001b[1;32m     10\u001b[0m v2000god\u001b[38;5;241m.\u001b[39mhead\n",
            "File \u001b[0;32m/lib/python3.11/site-packages/pandas/util/_decorators.py:211\u001b[0m, in \u001b[0;36mdeprecate_kwarg.<locals>._deprecate_kwarg.<locals>.wrapper\u001b[0;34m(*args, **kwargs)\u001b[0m\n\u001b[1;32m    209\u001b[0m     \u001b[38;5;28;01melse\u001b[39;00m:\n\u001b[1;32m    210\u001b[0m         kwargs[new_arg_name] \u001b[38;5;241m=\u001b[39m new_arg_value\n\u001b[0;32m--> 211\u001b[0m \u001b[38;5;28;01mreturn\u001b[39;00m \u001b[43mfunc\u001b[49m\u001b[43m(\u001b[49m\u001b[38;5;241;43m*\u001b[39;49m\u001b[43margs\u001b[49m\u001b[43m,\u001b[49m\u001b[43m \u001b[49m\u001b[38;5;241;43m*\u001b[39;49m\u001b[38;5;241;43m*\u001b[39;49m\u001b[43mkwargs\u001b[49m\u001b[43m)\u001b[49m\n",
            "File \u001b[0;32m/lib/python3.11/site-packages/pandas/util/_decorators.py:331\u001b[0m, in \u001b[0;36mdeprecate_nonkeyword_arguments.<locals>.decorate.<locals>.wrapper\u001b[0;34m(*args, **kwargs)\u001b[0m\n\u001b[1;32m    325\u001b[0m \u001b[38;5;28;01mif\u001b[39;00m \u001b[38;5;28mlen\u001b[39m(args) \u001b[38;5;241m>\u001b[39m num_allow_args:\n\u001b[1;32m    326\u001b[0m     warnings\u001b[38;5;241m.\u001b[39mwarn(\n\u001b[1;32m    327\u001b[0m         msg\u001b[38;5;241m.\u001b[39mformat(arguments\u001b[38;5;241m=\u001b[39m_format_argument_list(allow_args)),\n\u001b[1;32m    328\u001b[0m         \u001b[38;5;167;01mFutureWarning\u001b[39;00m,\n\u001b[1;32m    329\u001b[0m         stacklevel\u001b[38;5;241m=\u001b[39mfind_stack_level(),\n\u001b[1;32m    330\u001b[0m     )\n\u001b[0;32m--> 331\u001b[0m \u001b[38;5;28;01mreturn\u001b[39;00m \u001b[43mfunc\u001b[49m\u001b[43m(\u001b[49m\u001b[38;5;241;43m*\u001b[39;49m\u001b[43margs\u001b[49m\u001b[43m,\u001b[49m\u001b[43m \u001b[49m\u001b[38;5;241;43m*\u001b[39;49m\u001b[38;5;241;43m*\u001b[39;49m\u001b[43mkwargs\u001b[49m\u001b[43m)\u001b[49m\n",
            "\u001b[0;31mTypeError\u001b[0m: read_csv() got an unexpected keyword argument 'date_format'"
          ],
          "output_type": "error"
        }
      ],
      "execution_count": 100
    },
    {
      "id": "b4e5fcb6-eee0-4ab9-a220-2ee7c6674cc4",
      "cell_type": "code",
      "source": "v2000god['CelsiusTAVG'] = 0.0\nv2000god['CelsiusTMIN'] = 0.0\nv2000god['CelsiusTMAX'] = 0.0",
      "metadata": {
        "trusted": true
      },
      "outputs": [
        {
          "ename": "<class 'TypeError'>",
          "evalue": "'NoneType' object does not support item assignment",
          "traceback": [
            "\u001b[0;31m---------------------------------------------------------------------------\u001b[0m",
            "\u001b[0;31mTypeError\u001b[0m                                 Traceback (most recent call last)",
            "Cell \u001b[0;32mIn[87], line 1\u001b[0m\n\u001b[0;32m----> 1\u001b[0m \u001b[43mv2000god\u001b[49m\u001b[43m[\u001b[49m\u001b[38;5;124;43m'\u001b[39;49m\u001b[38;5;124;43mCelsiusTAVG\u001b[39;49m\u001b[38;5;124;43m'\u001b[39;49m\u001b[43m]\u001b[49m \u001b[38;5;241m=\u001b[39m \u001b[38;5;241m0.0\u001b[39m\n\u001b[1;32m      2\u001b[0m v2000god[\u001b[38;5;124m'\u001b[39m\u001b[38;5;124mCelsiusTMIN\u001b[39m\u001b[38;5;124m'\u001b[39m] \u001b[38;5;241m=\u001b[39m \u001b[38;5;241m0.0\u001b[39m\n\u001b[1;32m      3\u001b[0m v2000god[\u001b[38;5;124m'\u001b[39m\u001b[38;5;124mCelsiusTMAX\u001b[39m\u001b[38;5;124m'\u001b[39m] \u001b[38;5;241m=\u001b[39m \u001b[38;5;241m0.0\u001b[39m\n",
            "\u001b[0;31mTypeError\u001b[0m: 'NoneType' object does not support item assignment"
          ],
          "output_type": "error"
        }
      ],
      "execution_count": 87
    },
    {
      "id": "0f741246-aa94-4dd9-bddd-54ed6c04daef",
      "cell_type": "code",
      "source": "def fahr_to_celsius(TAVG):\n    return (TAVG -32)/1.8",
      "metadata": {
        "trusted": true
      },
      "outputs": [],
      "execution_count": 88
    },
    {
      "id": "23ef432c-b746-4962-addc-77eb54e447b1",
      "cell_type": "code",
      "source": "def fahr_to_celsius(TMIN):\n    return (TMIN -32)/1.8",
      "metadata": {
        "trusted": true
      },
      "outputs": [],
      "execution_count": 89
    },
    {
      "id": "6577b2dc-6985-403e-9ac5-4364661b84c2",
      "cell_type": "code",
      "source": "def fahr_to_celsius(TMAX):\n    return (TMAX -32)/1.8",
      "metadata": {
        "trusted": true
      },
      "outputs": [],
      "execution_count": 90
    },
    {
      "id": "23920ec5-b250-4633-ace1-cd830a23043e",
      "cell_type": "code",
      "source": "v2000god.at[idx, 'CelsiusTAVG'] = fahr_to_celsius(TAVG)",
      "metadata": {
        "trusted": true
      },
      "outputs": [
        {
          "ename": "<class 'NameError'>",
          "evalue": "name 'TAVG' is not defined",
          "traceback": [
            "\u001b[0;31m---------------------------------------------------------------------------\u001b[0m",
            "\u001b[0;31mNameError\u001b[0m                                 Traceback (most recent call last)",
            "Cell \u001b[0;32mIn[91], line 1\u001b[0m\n\u001b[0;32m----> 1\u001b[0m v2000god\u001b[38;5;241m.\u001b[39mat[idx, \u001b[38;5;124m'\u001b[39m\u001b[38;5;124mCelsiusTAVG\u001b[39m\u001b[38;5;124m'\u001b[39m] \u001b[38;5;241m=\u001b[39m fahr_to_celsius(\u001b[43mTAVG\u001b[49m)\n",
            "\u001b[0;31mNameError\u001b[0m: name 'TAVG' is not defined"
          ],
          "output_type": "error"
        }
      ],
      "execution_count": 91
    },
    {
      "id": "610b4c1e-8334-46e1-9812-798e5593f53d",
      "cell_type": "code",
      "source": "v2000god.at[idx, 'CelsiusTMIN'] = fahr_to_celsius(TMIN)",
      "metadata": {
        "trusted": true
      },
      "outputs": [
        {
          "ename": "<class 'NameError'>",
          "evalue": "name 'TMIN' is not defined",
          "traceback": [
            "\u001b[0;31m---------------------------------------------------------------------------\u001b[0m",
            "\u001b[0;31mNameError\u001b[0m                                 Traceback (most recent call last)",
            "Cell \u001b[0;32mIn[92], line 1\u001b[0m\n\u001b[0;32m----> 1\u001b[0m v2000god\u001b[38;5;241m.\u001b[39mat[idx, \u001b[38;5;124m'\u001b[39m\u001b[38;5;124mCelsiusTMIN\u001b[39m\u001b[38;5;124m'\u001b[39m] \u001b[38;5;241m=\u001b[39m fahr_to_celsius(\u001b[43mTMIN\u001b[49m)\n",
            "\u001b[0;31mNameError\u001b[0m: name 'TMIN' is not defined"
          ],
          "output_type": "error"
        }
      ],
      "execution_count": 92
    },
    {
      "id": "b695cceb-b714-4c0c-a368-8d90c3703125",
      "cell_type": "code",
      "source": "v2000god.at[idx, 'CelsiusTMAX'] = fahr_to_celsius(TMAX)",
      "metadata": {
        "trusted": true
      },
      "outputs": [
        {
          "ename": "<class 'NameError'>",
          "evalue": "name 'TMAX' is not defined",
          "traceback": [
            "\u001b[0;31m---------------------------------------------------------------------------\u001b[0m",
            "\u001b[0;31mNameError\u001b[0m                                 Traceback (most recent call last)",
            "Cell \u001b[0;32mIn[93], line 1\u001b[0m\n\u001b[0;32m----> 1\u001b[0m v2000god\u001b[38;5;241m.\u001b[39mat[idx, \u001b[38;5;124m'\u001b[39m\u001b[38;5;124mCelsiusTMAX\u001b[39m\u001b[38;5;124m'\u001b[39m] \u001b[38;5;241m=\u001b[39m fahr_to_celsius(\u001b[43mTMAX\u001b[49m)\n",
            "\u001b[0;31mNameError\u001b[0m: name 'TMAX' is not defined"
          ],
          "output_type": "error"
        }
      ],
      "execution_count": 93
    },
    {
      "id": "c1fa7da2-894d-44d0-ada9-f0503e19b7db",
      "cell_type": "code",
      "source": "print(v2000god[v2000god.TAVG != -9999])",
      "metadata": {
        "trusted": true
      },
      "outputs": [
        {
          "ename": "<class 'AttributeError'>",
          "evalue": "'NoneType' object has no attribute 'TAVG'",
          "traceback": [
            "\u001b[0;31m---------------------------------------------------------------------------\u001b[0m",
            "\u001b[0;31mAttributeError\u001b[0m                            Traceback (most recent call last)",
            "Cell \u001b[0;32mIn[94], line 1\u001b[0m\n\u001b[0;32m----> 1\u001b[0m \u001b[38;5;28mprint\u001b[39m(v2000god[\u001b[43mv2000god\u001b[49m\u001b[38;5;241;43m.\u001b[39;49m\u001b[43mTAVG\u001b[49m \u001b[38;5;241m!=\u001b[39m \u001b[38;5;241m-\u001b[39m\u001b[38;5;241m9999\u001b[39m])\n",
            "\u001b[0;31mAttributeError\u001b[0m: 'NoneType' object has no attribute 'TAVG'"
          ],
          "output_type": "error"
        }
      ],
      "execution_count": 94
    },
    {
      "id": "7c60f3d4-c3ef-47cc-b245-32f6f67d5330",
      "cell_type": "code",
      "source": "temps_winter= [v2000god['DATE'].between(19991201, 20000229)]\ntemps_spring= [v2000god['DATE'].between(20000301, 20000531)]\ntemps_summer= [v2000god['DATE'].between(20000601, 20000831)]\ntemps_autumn= [v2000god['DATE'].between(20000901, 20001130)]",
      "metadata": {
        "trusted": true
      },
      "outputs": [
        {
          "ename": "<class 'TypeError'>",
          "evalue": "'NoneType' object is not subscriptable",
          "traceback": [
            "\u001b[0;31m---------------------------------------------------------------------------\u001b[0m",
            "\u001b[0;31mTypeError\u001b[0m                                 Traceback (most recent call last)",
            "Cell \u001b[0;32mIn[95], line 1\u001b[0m\n\u001b[0;32m----> 1\u001b[0m temps_winter\u001b[38;5;241m=\u001b[39m [\u001b[43mv2000god\u001b[49m\u001b[43m[\u001b[49m\u001b[38;5;124;43m'\u001b[39;49m\u001b[38;5;124;43mDATE\u001b[39;49m\u001b[38;5;124;43m'\u001b[39;49m\u001b[43m]\u001b[49m\u001b[38;5;241m.\u001b[39mbetween(\u001b[38;5;241m19991201\u001b[39m, \u001b[38;5;241m20000229\u001b[39m)]\n\u001b[1;32m      2\u001b[0m temps_spring\u001b[38;5;241m=\u001b[39m [v2000god[\u001b[38;5;124m'\u001b[39m\u001b[38;5;124mDATE\u001b[39m\u001b[38;5;124m'\u001b[39m]\u001b[38;5;241m.\u001b[39mbetween(\u001b[38;5;241m20000301\u001b[39m, \u001b[38;5;241m20000531\u001b[39m)]\n\u001b[1;32m      3\u001b[0m temps_summer\u001b[38;5;241m=\u001b[39m [v2000god[\u001b[38;5;124m'\u001b[39m\u001b[38;5;124mDATE\u001b[39m\u001b[38;5;124m'\u001b[39m]\u001b[38;5;241m.\u001b[39mbetween(\u001b[38;5;241m20000601\u001b[39m, \u001b[38;5;241m20000831\u001b[39m)]\n",
            "\u001b[0;31mTypeError\u001b[0m: 'NoneType' object is not subscriptable"
          ],
          "output_type": "error"
        }
      ],
      "execution_count": 95
    },
    {
      "id": "1a3bd2e1-b5dd-4c02-84df-9fc5a5664470",
      "cell_type": "code",
      "source": "meen_winter=temps_winter[\"CelsiusTAVG\", \"CelsiusTMIN\", \"CelsiusTMAX\"].mean().round()\nmeen_spring=temps_spring[\"CelsiusTAVG\", \"CelsiusTMIN\", \"CelsiusTMAX\"].mean().round()\nmeen_summer=temps_summer[\"CelsiusTAVG\", \"CelsiusTMIN\", \"CelsiusTMAX\"].mean().round()\nmeen_autumn=temps_autumn[\"CelsiusTAVG\", \"CelsiusTMIN\", \"CelsiusTMAX\"].mean().round()",
      "metadata": {
        "trusted": true
      },
      "outputs": [
        {
          "ename": "<class 'NameError'>",
          "evalue": "name 'temps_winter' is not defined",
          "traceback": [
            "\u001b[0;31m---------------------------------------------------------------------------\u001b[0m",
            "\u001b[0;31mNameError\u001b[0m                                 Traceback (most recent call last)",
            "Cell \u001b[0;32mIn[96], line 1\u001b[0m\n\u001b[0;32m----> 1\u001b[0m meen_winter\u001b[38;5;241m=\u001b[39m\u001b[43mtemps_winter\u001b[49m[\u001b[38;5;124m\"\u001b[39m\u001b[38;5;124mCelsiusTAVG\u001b[39m\u001b[38;5;124m\"\u001b[39m, \u001b[38;5;124m\"\u001b[39m\u001b[38;5;124mCelsiusTMIN\u001b[39m\u001b[38;5;124m\"\u001b[39m, \u001b[38;5;124m\"\u001b[39m\u001b[38;5;124mCelsiusTMAX\u001b[39m\u001b[38;5;124m\"\u001b[39m]\u001b[38;5;241m.\u001b[39mmean()\u001b[38;5;241m.\u001b[39mround()\n\u001b[1;32m      2\u001b[0m meen_spring\u001b[38;5;241m=\u001b[39mtemps_spring[\u001b[38;5;124m\"\u001b[39m\u001b[38;5;124mCelsiusTAVG\u001b[39m\u001b[38;5;124m\"\u001b[39m, \u001b[38;5;124m\"\u001b[39m\u001b[38;5;124mCelsiusTMIN\u001b[39m\u001b[38;5;124m\"\u001b[39m, \u001b[38;5;124m\"\u001b[39m\u001b[38;5;124mCelsiusTMAX\u001b[39m\u001b[38;5;124m\"\u001b[39m]\u001b[38;5;241m.\u001b[39mmean()\u001b[38;5;241m.\u001b[39mround()\n\u001b[1;32m      3\u001b[0m meen_summer\u001b[38;5;241m=\u001b[39mtemps_summer[\u001b[38;5;124m\"\u001b[39m\u001b[38;5;124mCelsiusTAVG\u001b[39m\u001b[38;5;124m\"\u001b[39m, \u001b[38;5;124m\"\u001b[39m\u001b[38;5;124mCelsiusTMIN\u001b[39m\u001b[38;5;124m\"\u001b[39m, \u001b[38;5;124m\"\u001b[39m\u001b[38;5;124mCelsiusTMAX\u001b[39m\u001b[38;5;124m\"\u001b[39m]\u001b[38;5;241m.\u001b[39mmean()\u001b[38;5;241m.\u001b[39mround()\n",
            "\u001b[0;31mNameError\u001b[0m: name 'temps_winter' is not defined"
          ],
          "output_type": "error"
        }
      ],
      "execution_count": 96
    },
    {
      "id": "e5b93133-3a66-4f6e-a985-acbff2636e04",
      "cell_type": "code",
      "source": "print(f\"Средняя температура зимой равна {meen_winter}\")\nprint(f\"Средняя температура весной равна {meen_spring}\")\nprint(f\"Средняя температура летом равна {meen_summer}\")\nprint(f\"Средняя температура осенью равна {meen_autumn}\")",
      "metadata": {
        "trusted": true
      },
      "outputs": [
        {
          "ename": "<class 'NameError'>",
          "evalue": "name 'meen_winter' is not defined",
          "traceback": [
            "\u001b[0;31m---------------------------------------------------------------------------\u001b[0m",
            "\u001b[0;31mNameError\u001b[0m                                 Traceback (most recent call last)",
            "Cell \u001b[0;32mIn[97], line 1\u001b[0m\n\u001b[0;32m----> 1\u001b[0m \u001b[38;5;28mprint\u001b[39m(\u001b[38;5;124mf\u001b[39m\u001b[38;5;124m\"\u001b[39m\u001b[38;5;124mСредняя температура зимой равна \u001b[39m\u001b[38;5;132;01m{\u001b[39;00m\u001b[43mmeen_winter\u001b[49m\u001b[38;5;132;01m}\u001b[39;00m\u001b[38;5;124m\"\u001b[39m)\n\u001b[1;32m      2\u001b[0m \u001b[38;5;28mprint\u001b[39m(\u001b[38;5;124mf\u001b[39m\u001b[38;5;124m\"\u001b[39m\u001b[38;5;124mСредняя температура весной равна \u001b[39m\u001b[38;5;132;01m{\u001b[39;00mmeen_spring\u001b[38;5;132;01m}\u001b[39;00m\u001b[38;5;124m\"\u001b[39m)\n\u001b[1;32m      3\u001b[0m \u001b[38;5;28mprint\u001b[39m(\u001b[38;5;124mf\u001b[39m\u001b[38;5;124m\"\u001b[39m\u001b[38;5;124mСредняя температура летом равна \u001b[39m\u001b[38;5;132;01m{\u001b[39;00mmeen_summer\u001b[38;5;132;01m}\u001b[39;00m\u001b[38;5;124m\"\u001b[39m)\n",
            "\u001b[0;31mNameError\u001b[0m: name 'meen_winter' is not defined"
          ],
          "output_type": "error"
        }
      ],
      "execution_count": 97
    },
    {
      "id": "679cd460-3c9c-447c-ae7e-7dee376567fd",
      "cell_type": "code",
      "source": "temps_winter.CelsiusTAVG.plot()\ntemps_spring.CelsiusTAVG.plot()\ntemps_summer.CelsiusTAVG.plot()\ntemps_autumn.CelsiusTAVG.plot()",
      "metadata": {
        "trusted": true
      },
      "outputs": [
        {
          "ename": "<class 'NameError'>",
          "evalue": "name 'temps_winter' is not defined",
          "traceback": [
            "\u001b[0;31m---------------------------------------------------------------------------\u001b[0m",
            "\u001b[0;31mNameError\u001b[0m                                 Traceback (most recent call last)",
            "Cell \u001b[0;32mIn[98], line 1\u001b[0m\n\u001b[0;32m----> 1\u001b[0m \u001b[43mtemps_winter\u001b[49m\u001b[38;5;241m.\u001b[39mCelsiusTAVG\u001b[38;5;241m.\u001b[39mplot()\n\u001b[1;32m      2\u001b[0m temps_spring\u001b[38;5;241m.\u001b[39mCelsiusTAVG\u001b[38;5;241m.\u001b[39mplot()\n\u001b[1;32m      3\u001b[0m temps_summer\u001b[38;5;241m.\u001b[39mCelsiusTAVG\u001b[38;5;241m.\u001b[39mplot()\n",
            "\u001b[0;31mNameError\u001b[0m: name 'temps_winter' is not defined"
          ],
          "output_type": "error"
        }
      ],
      "execution_count": 98
    }
  ]
}