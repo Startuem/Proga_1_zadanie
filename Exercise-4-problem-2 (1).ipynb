{
  "metadata": {
    "kernelspec": {
      "name": "python",
      "display_name": "Python (Pyodide)",
      "language": "python"
    },
    "language_info": {
      "codemirror_mode": {
        "name": "python",
        "version": 3
      },
      "file_extension": ".py",
      "mimetype": "text/x-python",
      "name": "python",
      "nbconvert_exporter": "python",
      "pygments_lexer": "ipython3",
      "version": "3.8"
    }
  },
  "nbformat_minor": 4,
  "nbformat": 4,
  "cells": [
    {
      "cell_type": "markdown",
      "source": "## Задача 2 - Температурный классификатор\n\nВо [второй части третьего упражнения на прошлой неделе](https://gitflic.ru/project/geopython-spbu/exercise-3) мы учились классифицировать температуру на четырех разных класса: cold, slippery, warm и hot. Давайте продолжим работать над той же задачей.\n\nНиже вы должны создать функцию по имени `temp_classifier`, которая принимает значение температуры в Цельсиях, чтобы затем классифицировать её в целочисленные числа 0-3 на основе следующих критериев:\n\n| Возвращаемое значение | Критерии классификации                                                 |\n| :----------: | :----------------------------------------------------------------------- |\n| 0            | Температура ниже -2 градуса по Цельсию                                    |\n| 1            | Температура равна или теплее -2, но менее +2 градуса Цельсия   |\n| 2            | Температура равна или теплее, чем +2, но менее чем +15 градусов по Цельсию  |\n| 3            | Температура равна или теплее, чем +15 градусов по Цельсию                   |\n\n### Советы по выполнению упражнения\n\n- Используйте **в точности** те же имена переменных, что и в инструкциях, потому что ваши ответы будут автоматически оценены, и тесты, которые оценивают ваши ответы, зависят от того же форматирования или именования переменных, что и в инструкциях.\n\n- **Пожалуйста**,\n\n    - **Не изменяйте имена файлов**. Сделайте все свое редактирование в файле `Exercise-4-зкщидуь-1.ipynb` (этом файле).\n    - **Не копируйте/вставляйте ячейки в этом блокноте**. Мы используем автоматизированную систему оценки, которая не будет работать, если есть копии кодовых ячеек.\n    - **Не изменяйте типы ячеек**. Вы можете добавить ячейки, но изменение типов ячеек для существующих ячеек (например, c кода на Markdown) также приведет к выходу из строя автоматизированной проверки.\n\n### Условия успешного выполнения задания\n\n- Создание новой функции с именем `temp_classifier`\n- Определение одного параметра, называемого `temp_celsius` в вашей функции` temp_classifier`\n- Реклассификация входных температур на основе критериев в приведенной выше таблице и возврат значения класса в виде целочисленного числа (то есть 0, 1, 2 или 3)\n- Добавление комментариев в ваш код и Docstring, в котором объясняется, как использовать вашу функцию `temp_classifier`\n- Загрузка вашего блокнота в репозиторий",
      "metadata": {
        "deletable": false,
        "editable": false,
        "nbgrader": {
          "cell_type": "markdown",
          "checksum": "be779f4342a23441f23be2c4e7ad553d",
          "grade": false,
          "grade_id": "cell-876e2442239d92c8",
          "locked": true,
          "schema_version": 3,
          "solution": false
        }
      }
    },
    {
      "cell_type": "markdown",
      "source": "## Соглашение об использовании ИИ\n\n**Введите свое имя в ячейку ниже** чтобы подтвердить, что вы следовали [принципам курса об использовании инструментов ИИ](https://geo-python-2024.readthedocs.io/ru/latest/course-info/ai-tools.html) и понимаете, что использование инструментов ИИ считается обманом.",
      "metadata": {
        "deletable": false,
        "editable": false,
        "nbgrader": {
          "cell_type": "markdown",
          "checksum": "ff733e5ceea38a681057a8eddeead168",
          "grade": false,
          "grade_id": "cell-d20f084b9227ee20",
          "locked": true,
          "schema_version": 3,
          "solution": false,
          "task": false
        },
        "tags": []
      }
    },
    {
      "cell_type": "markdown",
      "source": "Павел Федоров\n",
      "metadata": {
        "deletable": false,
        "nbgrader": {
          "cell_type": "markdown",
          "checksum": "06aea99b08f9c16f2b7d9501781e8a1a",
          "grade": true,
          "grade_id": "E4-P2-AI-LLM_statement",
          "locked": false,
          "points": 0,
          "schema_version": 3,
          "solution": true,
          "task": false
        },
        "tags": []
      }
    },
    {
      "cell_type": "markdown",
      "source": "## Часть 1\n\nСоздайте функцию в ячейке ниже, чтобы классифицировать температуры, как указано.\n\n- Ваша функция должна называться `temp_classifier`\n- У неё должен быть один параметр с именем `temp_celsius`\n- Она должна классифицировать температуры для данного входного значения температуры",
      "metadata": {
        "deletable": false,
        "editable": false,
        "nbgrader": {
          "cell_type": "markdown",
          "checksum": "535a6519ff689c5f7e12225c47f42b92",
          "grade": false,
          "grade_id": "cell-8cfb83163beb758c",
          "locked": true,
          "schema_version": 3,
          "solution": false,
          "task": false
        }
      }
    },
    {
      "cell_type": "code",
      "source": "def temp_classifier(temp_celsius): # Создаем функцию с одним параметром\n    if temp_celsius < -2: # ставим условия и возвращаем цифру \n        return 0\n    if temp_celsius >= -2 and temp_celsius < 2:\n        return 1\n    if temp_celsius >= 2 and temp_celsius < 15:\n        return 2\n    if temp_celsius >= 15:\n        return 3\n    \"\"\"\n Функция презбразования температуры в цельсиях в градусы Цельсия или Фаренгейта.\n\n Параметры \n ----------\n temp_celsius: <числовое значение>\n Температура в Кельвинах\n convert_to: <str>\n Целевая температура, которая может быть либо по Цельсию ('C'), либо по Фаренгейту ('F'). Поддерживаемые значения: 'C' | 'F'\n\n Возвращает\n -------\n <float>\n Преобразованную температуру.\n \"\"\"",
      "metadata": {
        "deletable": false,
        "nbgrader": {
          "cell_type": "code",
          "checksum": "f95bbee7e8340310e6146f8a25b58536",
          "grade": false,
          "grade_id": "problem_2_ag_p1_temp_classifier",
          "locked": false,
          "schema_version": 3,
          "solution": true
        },
        "trusted": true
      },
      "outputs": [
        {
          "name": "stdout",
          "text": "None\n",
          "output_type": "stream"
        }
      ],
      "execution_count": 13
    },
    {
      "cell_type": "markdown",
      "source": "Используйте свою недавно созданную функцию, чтобы распечатать ответы на следующие вопросы:",
      "metadata": {
        "deletable": false,
        "editable": false,
        "nbgrader": {
          "cell_type": "markdown",
          "checksum": "b9d162f121d9294d3e20196904cdca28",
          "grade": false,
          "grade_id": "cell-f4a8e418905fb50e",
          "locked": true,
          "schema_version": 3,
          "solution": false
        }
      }
    },
    {
      "cell_type": "code",
      "source": "# 1. Какое значение класса для 16,5 градусов по Цельсию?\nprint(temp_classifier(16.5))\n# 2.Какое значение класса для +2 градусов по Цельсию?\nprint(temp_classifier(2))",
      "metadata": {
        "trusted": true
      },
      "outputs": [
        {
          "name": "stdout",
          "text": "3\n2\n",
          "output_type": "stream"
        }
      ],
      "execution_count": 5
    },
    {
      "cell_type": "markdown",
      "source": "### Часть 2 – проверки\n\nЗапустите ячейки ниже, чтобы проверить свой ответ. Обратите внимание, что вы не можете менять тестовые ячейки. Ваше решение верно, если вы не видите никаких ошибок при запуске этих ячеек.",
      "metadata": {
        "deletable": false,
        "editable": false,
        "nbgrader": {
          "cell_type": "markdown",
          "checksum": "f3281f2f3ad29f5fa085ef5b5a274753",
          "grade": false,
          "grade_id": "cell-460623686e88033b",
          "locked": true,
          "schema_version": 3,
          "solution": false,
          "task": false
        }
      }
    },
    {
      "cell_type": "code",
      "source": "import inspect\n\n# Проверка на существование функции\nassert inspect.isfunction(temp_classifier)",
      "metadata": {
        "deletable": false,
        "editable": false,
        "nbgrader": {
          "cell_type": "code",
          "checksum": "3bfb0886cf9074749eb6757984a79748",
          "grade": true,
          "grade_id": "problem_2_ag_p1_temp_classifier_test1",
          "locked": true,
          "points": 0.5,
          "schema_version": 3,
          "solution": false
        },
        "trusted": true
      },
      "outputs": [],
      "execution_count": 6
    },
    {
      "cell_type": "code",
      "source": "# Проверяем, что функция имеет один параметр, а имя памаметра верно\nparams = list(inspect.signature(temp_classifier).parameters.keys())\nassert len(params) == 1\nassert params[0] == 'temp_celsius'",
      "metadata": {
        "deletable": false,
        "editable": false,
        "nbgrader": {
          "cell_type": "code",
          "checksum": "981fa7276bfc4263beec3664acc98856",
          "grade": true,
          "grade_id": "problem_2_ag_p1_temp_classifier_test2",
          "locked": true,
          "points": 0.5,
          "schema_version": 3,
          "solution": false
        },
        "trusted": true
      },
      "outputs": [],
      "execution_count": 7
    },
    {
      "cell_type": "markdown",
      "source": "Убедитесь, что функция дает правильные ответы для выбранных значений:",
      "metadata": {
        "deletable": false,
        "editable": false,
        "nbgrader": {
          "cell_type": "markdown",
          "checksum": "a7731774eb65258982fe6c7c37a17289",
          "grade": false,
          "grade_id": "cell-2085103147b58446",
          "locked": true,
          "schema_version": 3,
          "solution": false,
          "task": false
        }
      }
    },
    {
      "cell_type": "code",
      "source": "# 1. Какое значение класса для 16,5 градусов (Цельсия)?\nassert temp_classifier(16.5) == 3, 'Неправильный класс'\nprint(\"ok :)\")",
      "metadata": {
        "deletable": false,
        "editable": false,
        "nbgrader": {
          "cell_type": "code",
          "checksum": "10b64e184cfa4d6b896f212371afd029",
          "grade": true,
          "grade_id": "problem_2_ag_p1_temp_classifier_test3",
          "locked": true,
          "points": 0.25,
          "schema_version": 3,
          "solution": false
        },
        "trusted": true
      },
      "outputs": [
        {
          "name": "stdout",
          "text": "ok :)\n",
          "output_type": "stream"
        }
      ],
      "execution_count": 8
    },
    {
      "cell_type": "code",
      "source": "# 2. Какое значение класса для +2 градусов (Цельсия)?\nassert temp_classifier(2) == 2, 'Неправильный класс'\nprint(\"ok :)\")",
      "metadata": {
        "deletable": false,
        "editable": false,
        "nbgrader": {
          "cell_type": "code",
          "checksum": "3e81d1348ee62426a4ceea466be9c312",
          "grade": true,
          "grade_id": "problem_2_ag_p1_temp_classifier_test4",
          "locked": true,
          "points": 0.25,
          "schema_version": 3,
          "solution": false
        },
        "trusted": true
      },
      "outputs": [
        {
          "name": "stdout",
          "text": "ok :)\n",
          "output_type": "stream"
        }
      ],
      "execution_count": 9
    },
    {
      "cell_type": "code",
      "source": "# 3. Какое значение класса для +1 градусов (Цельсия)?\nassert temp_classifier(1) == 1, 'Неправильный класс'\nprint(\"ok :)\")",
      "metadata": {
        "deletable": false,
        "editable": false,
        "nbgrader": {
          "cell_type": "code",
          "checksum": "062ae3b8f1c51c67c766088689803518",
          "grade": true,
          "grade_id": "problem_2_ag_p1_temp_classifier_test5",
          "locked": true,
          "points": 0.25,
          "schema_version": 3,
          "solution": false
        },
        "trusted": true
      },
      "outputs": [
        {
          "name": "stdout",
          "text": "ok :)\n",
          "output_type": "stream"
        }
      ],
      "execution_count": 10
    },
    {
      "cell_type": "code",
      "source": "# 4. Каково значение класса для -5 градусов (Цельсия)?\nassert temp_classifier(-5) == 0, 'Неправильный класс'\nprint(\"ok :)\")",
      "metadata": {
        "deletable": false,
        "editable": false,
        "nbgrader": {
          "cell_type": "code",
          "checksum": "4962e6a3f265b93707e9b44718317ce5",
          "grade": true,
          "grade_id": "problem_2_ag_p1_temp_classifier_test6",
          "locked": true,
          "points": 0.25,
          "schema_version": 3,
          "solution": false
        },
        "trusted": true
      },
      "outputs": [
        {
          "name": "stdout",
          "text": "ok :)\n",
          "output_type": "stream"
        }
      ],
      "execution_count": 11
    },
    {
      "cell_type": "code",
      "source": "print(temp_classifier.__doc__)",
      "metadata": {
        "trusted": true
      },
      "outputs": [
        {
          "name": "stdout",
          "text": "None\n",
          "output_type": "stream"
        }
      ],
      "execution_count": 14
    },
    {
      "cell_type": "markdown",
      "source": "## Часть 2\n\nПроверьте свой код.\n\n- Все ли имена переменных правильны?\n- В вашем коде достаточно комментариев?\n- Есть ли у вашей функции информативный Docstring?\n\nВы можете добавить любую обратную связь, которая у вас есть, об этой задача в ячейке ниже.",
      "metadata": {
        "deletable": false,
        "editable": false,
        "nbgrader": {
          "cell_type": "markdown",
          "checksum": "ff8778a93115af0c4cf48ed5cec4825d",
          "grade": false,
          "grade_id": "cell-b27291a41da8074d",
          "locked": true,
          "schema_version": 3,
          "solution": false,
          "task": false
        }
      }
    },
    {
      "cell_type": "markdown",
      "source": "Ваш ответ здесь",
      "metadata": {
        "deletable": false,
        "nbgrader": {
          "cell_type": "markdown",
          "checksum": "8d7d2415e5c969177bfc24303dc4b0e9",
          "grade": true,
          "grade_id": "problem_2_manual_check",
          "locked": false,
          "points": 1,
          "schema_version": 3,
          "solution": true,
          "task": false
        }
      }
    }
  ]
}